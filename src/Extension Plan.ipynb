{
 "cells": [
  {
   "cell_type": "markdown",
   "metadata": {},
   "source": [
    "This script aims to analyze and process data related to smoke estimates, asthma hospitalization rates, and respiratory disease mortality for Tulare County, CA. The primary objectives include:\n",
    "\n",
    "1. Data Retrieval:\n",
    "   - Importing CSV files containing smoke estimates, asthma hospitalization rates, and respiratory disease mortality data.\n",
    "   \n",
    "\n",
    "2. Data Filtering:\n",
    "   - Extracting respiratory disease mortality and asthma hospitalization data specific to Tulare County (identified by FIPS code 6107 and county name Tulare).\n",
    "   - Filtering the asthma hospitalization dataset to focus exclusively on Tulare County.\n",
    "   - Removing unnecessary columns from the respiratory disease dataset.\n",
    "\n",
    "\n",
    "3. Data Segmentation:\n",
    "   - Separating respiratory disease data into categories based on disease types such as Chronic obstructive pulmonary disease (COPD) and Asthma.\n",
    "   - Dividing the disease data further by gender (Male, Female, Both) for detailed analysis.\n",
    "\n",
    "\n",
    "4. Data Export:\n",
    "   - Saving the segmented and filtered datasets into separate CSV files for subsequent in-depth analysis and visualization."
   ]
  },
  {
   "cell_type": "code",
   "execution_count": 1,
   "metadata": {},
   "outputs": [],
   "source": [
    "## Import necessary libraries\n",
    "import pandas as pd"
   ]
  },
  {
   "cell_type": "code",
   "execution_count": 2,
   "metadata": {},
   "outputs": [],
   "source": [
    "# File paths for smoke estimate, asthma hospitalization, and respiratory disease data\n",
    "smoke_estimate_file_path = '../intermediate data/annual_smoke_estimate.csv'\n",
    "asthma_hospitalization_file_path = '../data/Asthma_Hospitalization_Rates_For_California_Counties_from_2015_to_2020.csv'\n",
    "resp_disease_data_file_path = '../data/IHME_USA_COUNTY_RESP_DISEASE_MORTALITY_1980_2014_CALIFORNIA_Y2017M09D26.csv'"
   ]
  },
  {
   "cell_type": "code",
   "execution_count": 3,
   "metadata": {},
   "outputs": [],
   "source": [
    "# Reading data into DataFrames\n",
    "smoke_estimate_df = pd.read_csv(smoke_estimate_file_path)\n",
    "asthma_hospitalization_df = pd.read_csv(asthma_hospitalization_file_path)\n",
    "resp_disease_df = pd.read_csv(resp_disease_data_file_path)"
   ]
  },
  {
   "cell_type": "code",
   "execution_count": 4,
   "metadata": {},
   "outputs": [],
   "source": [
    "# Filtering asthma hospitalization data for Tulare County\n",
    "asthma_hospitalization_filtered_df = asthma_hospitalization_df[asthma_hospitalization_df['COUNTY'] == 'Tulare']"
   ]
  },
  {
   "cell_type": "code",
   "execution_count": 5,
   "metadata": {},
   "outputs": [],
   "source": [
    "# Filtering respiratory disease data for Tulare County (FIPS code 6107) and dropping unnecessary columns\n",
    "resp_disease_filtered_df = resp_disease_df[resp_disease_df['FIPS'] == 6107]\n",
    "resp_disease_filtered_df = resp_disease_filtered_df.drop(['lower', 'upper', 'measure_id'], axis=1)"
   ]
  },
  {
   "cell_type": "code",
   "execution_count": 6,
   "metadata": {},
   "outputs": [],
   "source": [
    "# Separating data for Chronic obstructive pulmonary disease (COPD) and Asthma\n",
    "resp_disease_copd_df = resp_disease_filtered_df[resp_disease_filtered_df['cause_name'] == 'Chronic obstructive pulmonary disease']\n",
    "resp_disease_asthma_df = resp_disease_filtered_df[resp_disease_filtered_df['cause_name'] == 'Asthma']"
   ]
  },
  {
   "cell_type": "code",
   "execution_count": 7,
   "metadata": {},
   "outputs": [],
   "source": [
    "# Separating data by gender for Asthma and COPD\n",
    "resp_disease_male_asthma_df = resp_disease_asthma_df[resp_disease_asthma_df['sex'] == 'Male']\n",
    "resp_disease_female_asthma_df = resp_disease_asthma_df[resp_disease_asthma_df['sex'] == 'Female']\n",
    "resp_disease_both_asthma_df = resp_disease_asthma_df[resp_disease_asthma_df['sex'] == 'Both']\n",
    "\n",
    "resp_disease_male_copd_df = resp_disease_copd_df[resp_disease_copd_df['sex'] == 'Male']\n",
    "resp_disease_female_copd_df = resp_disease_copd_df[resp_disease_copd_df['sex'] == 'Female']\n",
    "resp_disease_both_copd_df = resp_disease_copd_df[resp_disease_copd_df['sex'] == 'Both']"
   ]
  },
  {
   "cell_type": "code",
   "execution_count": 8,
   "metadata": {},
   "outputs": [],
   "source": [
    "# Saving filtered data into separate CSV files for further analysis\n",
    "resp_disease_male_asthma_df.to_csv('../intermediate data/resp_disease_male_asthma.csv', index=False)\n",
    "resp_disease_female_asthma_df.to_csv('../intermediate data/resp_disease_female_asthma.csv', index=False)\n",
    "resp_disease_both_asthma_df.to_csv('../intermediate data/resp_disease_both_asthma.csv', index=False)\n",
    "resp_disease_male_copd_df.to_csv('../intermediate data/resp_disease_male_copd.csv', index=False)\n",
    "resp_disease_female_copd_df.to_csv('../intermediate data/resp_disease_female_copd.csv', index=False)\n",
    "resp_disease_both_copd_df.to_csv('../intermediate data/resp_disease_both_copd.csv', index=False)"
   ]
  },
  {
   "cell_type": "code",
   "execution_count": null,
   "metadata": {},
   "outputs": [],
   "source": []
  }
 ],
 "metadata": {
  "kernelspec": {
   "display_name": "Python 3",
   "language": "python",
   "name": "python3"
  },
  "language_info": {
   "codemirror_mode": {
    "name": "ipython",
    "version": 3
   },
   "file_extension": ".py",
   "mimetype": "text/x-python",
   "name": "python",
   "nbconvert_exporter": "python",
   "pygments_lexer": "ipython3",
   "version": "3.8.3"
  }
 },
 "nbformat": 4,
 "nbformat_minor": 4
}
